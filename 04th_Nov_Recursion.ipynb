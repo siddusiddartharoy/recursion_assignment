{
  "nbformat": 4,
  "nbformat_minor": 0,
  "metadata": {
    "colab": {
      "provenance": []
    },
    "kernelspec": {
      "name": "python3",
      "display_name": "Python 3"
    },
    "language_info": {
      "name": "python"
    }
  },
  "cells": [
    {
      "cell_type": "code",
      "source": [],
      "metadata": {
        "id": "SEk9kH8ass2r"
      },
      "execution_count": null,
      "outputs": []
    },
    {
      "cell_type": "code",
      "source": [
        "# 1. The Tower of Hanoi is a classic problem that involves moving a stack of disks from one rod to another, subject to the following constraints:\n",
        "\n",
        "# Only one disk can be moved at a time.\n",
        "# A disk can only be placed on top of a larger disk or an empty rod.\n",
        "# Only the top disk of a stack can be moved.\n",
        "# The problem can be solved recursively using the following steps:\n",
        "\n",
        "# Move n-1 disks from the source rod to an auxiliary rod, using the destination rod as a temporary rod.\n",
        "# Move the largest disk from the source rod to the destination rod.\n",
        "# Move the n-1 disks from the auxiliary rod to the destination rod, using the source rod as a temporary rod.\n",
        "\n",
        "\n",
        "# public class TowerOfHanoi {\n",
        "\n",
        "#     public static void main(String[] args) {\n",
        "#         int n = 3; // Number of disks\n",
        "#         char source = 'A', auxiliary = 'B', destination = 'C';\n",
        "\n",
        "#         System.out.println(\"Tower of Hanoi with \" + n + \" disks:\");\n",
        "#         solveTowerOfHanoi(n, source, auxiliary, destination);\n",
        "#     }\n",
        "\n",
        "#     public static void solveTowerOfHanoi(int n, char source, char auxiliary, char destination) {\n",
        "#         if (n == 1) {\n",
        "#             System.out.println(\"Move disk 1 from \" + source + \" to \" + destination);\n",
        "#             return;\n",
        "#         }\n",
        "\n",
        "#         // Move n-1 disks from source to auxiliary using destination as a temporary rod\n",
        "#         solveTowerOfHanoi(n - 1, source, destination, auxiliary);\n",
        "\n",
        "#         // Move the nth disk from source to destination\n",
        "#         System.out.println(\"Move disk \" + n + \" from \" + source + \" to \" + destination);\n",
        "\n",
        "#         // Move the n-1 disks from auxiliary to destination using source as a temporary rod\n",
        "#         solveTowerOfHanoi(n - 1, auxiliary, source, destination);\n",
        "#     }\n",
        "# }\n",
        "\n"
      ],
      "metadata": {
        "id": "UnRwxB_xsxe1"
      },
      "execution_count": 3,
      "outputs": []
    },
    {
      "cell_type": "code",
      "source": [
        "#.2 Given two strings word1 and word2, return the minimum number of operations required to convert word1 to word2.\n",
        "def min_distance(word1, word2):\n",
        "    def edit_distance(i, j):\n",
        "        # Base cases: if either of the strings is empty\n",
        "        if i == 0:\n",
        "            return j\n",
        "        if j == 0:\n",
        "            return i\n",
        "\n",
        "        # If the current characters are the same, no operation is needed\n",
        "        if word1[i - 1] == word2[j - 1]:\n",
        "            return edit_distance(i - 1, j - 1)\n",
        "\n",
        "        # If the current characters are different, consider all three operations\n",
        "        return 1 + min(\n",
        "            edit_distance(i - 1, j),      # Deletion\n",
        "            edit_distance(i, j - 1),      # Insertion\n",
        "            edit_distance(i - 1, j - 1)   # Replacement\n",
        "        )\n",
        "\n",
        "\n",
        "    return edit_distance(len(word1), len(word2))\n",
        "\n",
        "# Test cases\n",
        "word1_1, word2_1 = \"horse\", \"ros\"\n",
        "word1_2, word2_2 = \"intention\", \"execution\"\n",
        "\n",
        "output_1 = min_distance(word1_1, word2_1)\n",
        "output_2 = min_distance(word1_2, word2_2)\n",
        "\n",
        "print(\"Output 1:\", output_1)\n",
        "print(\"Output 2:\", output_2)\n"
      ],
      "metadata": {
        "colab": {
          "base_uri": "https://localhost:8080/"
        },
        "id": "TpB-Ixo7iVFk",
        "outputId": "3d07252d-9413-40b7-b391-e11f3b51ad00"
      },
      "execution_count": 1,
      "outputs": [
        {
          "output_type": "stream",
          "name": "stdout",
          "text": [
            "Output 1: 3\n",
            "Output 2: 5\n"
          ]
        }
      ]
    },
    {
      "cell_type": "code",
      "execution_count": null,
      "metadata": {
        "colab": {
          "base_uri": "https://localhost:8080/"
        },
        "id": "UM3YhNNwXkR0",
        "outputId": "ddb9ee71-1034-4b87-c1fb-88878e0ca0af"
      },
      "outputs": [
        {
          "output_type": "stream",
          "name": "stdout",
          "text": [
            "22\n"
          ]
        }
      ],
      "source": [
        "# 3 . Print the max value of array\n",
        "arr = [13,1,-3,22,5]\n",
        "\n",
        "def maxarr(maxi ,arr):\n",
        "\n",
        "    if len(arr)==1:\n",
        "        return max(maxi,arr[0])   # base case\n",
        "\n",
        "    maxi = max(maxi,arr[0])\n",
        "    return maxarr(maxi,arr[1:])   # slicing the array for every recursion\n",
        "\n",
        "\n",
        "\n",
        "if len(arr)==1:\n",
        "    print(arr[0])\n",
        "else:\n",
        "    maxi = arr[0]\n",
        "    print(maxarr(maxi,arr[1:]))\n",
        "\n"
      ]
    },
    {
      "cell_type": "code",
      "source": [
        "# 4. Sum of array\n",
        "\n",
        "arr4 = [92,23,15,-20,10]\n",
        "\n",
        "def sum_array(count,arr4):\n",
        "  if len(arr4)==1:\n",
        "    return count+arr4[0]\n",
        "  count+=arr4[0]\n",
        "  return sum_array(count,arr4[1:])  # slicing array for each recursion\n",
        "\n",
        "count=0\n",
        "print(sum_array(0,arr4))\n",
        "\n"
      ],
      "metadata": {
        "colab": {
          "base_uri": "https://localhost:8080/"
        },
        "id": "NnnA09RgXsJx",
        "outputId": "688a0f01-3d46-4042-8cdf-5a66d70dcf9f"
      },
      "execution_count": null,
      "outputs": [
        {
          "output_type": "stream",
          "name": "stdout",
          "text": [
            "120\n"
          ]
        }
      ]
    },
    {
      "cell_type": "code",
      "source": [
        "\n",
        "# 5 . Armstrong number or not\n",
        "\n",
        "num = 153\n",
        "n = len(str(num))\n",
        "\n",
        "def find_armstrong(num,n):\n",
        "  if num==0:\n",
        "      return 0\n",
        "  mul = num%10\n",
        "  return mul**n + find_armstrong(num//10,n)\n",
        "\n",
        "\n",
        "\n",
        "if num == find_armstrong(num,n):\n",
        "    print( \"True\")\n",
        "else:\n",
        "    print (\"False\")\n"
      ],
      "metadata": {
        "id": "BTJfAXViYwzc",
        "colab": {
          "base_uri": "https://localhost:8080/"
        },
        "outputId": "b7216fb1-0acd-442a-b8c2-342e4153400c"
      },
      "execution_count": null,
      "outputs": [
        {
          "output_type": "stream",
          "name": "stdout",
          "text": [
            "True\n"
          ]
        }
      ]
    },
    {
      "cell_type": "code",
      "source": [],
      "metadata": {
        "id": "XQT1gx0sautH"
      },
      "execution_count": null,
      "outputs": []
    }
  ]
}